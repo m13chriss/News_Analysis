{
 "cells": [
  {
   "cell_type": "code",
   "execution_count": 2,
   "id": "c442c223",
   "metadata": {},
   "outputs": [],
   "source": [
    "import pandas as pd\n",
    "import requests\n",
    "import time\n",
    "import cloudmersive_image_api_client\n",
    "from cloudmersive_image_api_client.rest import ApiException\n",
    "from pprint import pprint\n",
    "from __future__ import print_function\n",
    "import json\n",
    "import ast\n",
    "import matplotlib.pyplot as plt\n",
    "from flair.models import TextClassifier\n",
    "from flair.data import Sentence\n",
    "import numpy as np\n",
    "from bs4 import BeautifulSoup"
   ]
  },
  {
   "cell_type": "markdown",
   "id": "e339e1bc",
   "metadata": {},
   "source": [
    "# Table of Contents:\n",
    "* [Introduction](#first-bullet)\n",
    "* [Collecting News Articles](#second-bullet)\n",
    "* [Collecting Images for Articles](#third-bullet)\n",
    "* [Detecting Faces in Images and Analysing the Corresponding Age](#fourth-bullet)\n",
    "* [Detecting Faces in Images and Analysing the Corresponding Gender](#fifth-bullet)\n",
    "* [Get Text of the Article](#sixth-bullet)\n",
    "* [Sentiment Analysis](#seventh-bullet)\n",
    "* [Merge Data Frames](#eighth-bullet)\n",
    "* [Create Indicator Variable for Children, Women and Senior Citizens](#ninth-bullet)\n",
    "* [Visualization of the Data](#tenth-bullet)"
   ]
  },
  {
   "cell_type": "markdown",
   "id": "ffc02fad",
   "metadata": {},
   "source": [
    "# Introduction <a class=\"anchor\" id=\"first-bullet\"></a>"
   ]
  },
  {
   "cell_type": "markdown",
   "id": "794c1f6d",
   "metadata": {},
   "source": [
    "This project attempts to see if there any relationship between the images used in news articles and the sentiment expressed in them. We use Cloudmersive Image Recognition API and Natural Language Processing(NLP) python package Flair for this purpose. In the following sections we first extract the articles and the corresponding images, transform the data to then input it into Image Recognition software and perform sentiment analysis. Finally, we visualise the results in bar charts. We focus on such characteristics of the images in each article as number of of people on the picture, their age and gender and compare their presence with the sentiment of the article (\"POSITIVE/NEGATIVE\").\n",
    "\n",
    "You can run each specific section separately, however, each API requires a new key, that can be acquired on the corresponding websites. Be aware that recreating the same output from the first section is impossible, as the API searches for contemporary news, and that set changes all the time. For this purpose we provide the data.csv dataframe, which is loaded in the beginning of each section. However, should you decide to run the code from beginning to bottom via adding new API keys, the code will work nonetheless even with new data.\n",
    "\n",
    "As the project only uses free access APIs and packages, the sample is very small. Thus, the analysis is in no way aimed at deriving any conslusive results, but performed as an illustration of how existing neural networks software can be used for quantitative analysis of qualititative data. "
   ]
  },
  {
   "cell_type": "markdown",
   "id": "ba6658e4",
   "metadata": {},
   "source": [
    "# Collecting News Articles<a class=\"anchor\" id=\"second-bullet\"></a>"
   ]
  },
  {
   "cell_type": "markdown",
   "id": "0bb1a9e5",
   "metadata": {},
   "source": [
    "We create a loop to retrive as much as news articles possible related to poverty around the world. We use keywords such as poverty and in combination with poor or developing country names to obtain the articles. Origin of the articles have a common origin loaction(New York), inorder to avoid complexity."
   ]
  },
  {
   "cell_type": "code",
   "execution_count": null,
   "id": "7047cb64",
   "metadata": {},
   "outputs": [],
   "source": [
    "a=[\"Africa\", \"Asia\", \"India\", \"Yemen\", \"Syria\",\"Myanmar\"]"
   ]
  },
  {
   "cell_type": "code",
   "execution_count": null,
   "id": "fc49ac65",
   "metadata": {},
   "outputs": [],
   "source": [
    "Articles=[]\n",
    "for i in a:\n",
    "\n",
    "    url = \"https://bing-news-search1.p.rapidapi.com/news/search\"\n",
    "\n",
    "    querystring = {\"q\":\"poverty AND\"+ i + \" AND poor\",\"count\":\"100\",\"setLang\":\"EN\",\"freshness\":\"Month\",\"originalImg\":\"true\",\"textFormat\":\"Html\",\"safeSearch\":\"Moderate\"}\n",
    "\n",
    "    headers = {\n",
    "        'x-bingapis-sdk': \"true\",\n",
    "        'x-search-location': \"<lat>:<40.7128> ; <long>:<-74.0060>;<re>:<18,000m>\",\n",
    "        'x-rapidapi-key': \"cfed271924msha9ee503e5078077p182505jsna0effab8c04f\",\n",
    "        'x-rapidapi-host': \"bing-news-search1.p.rapidapi.com\"\n",
    "        }\n",
    "\n",
    "    response = requests.request(\"GET\", url, headers=headers, params=querystring)\n",
    "\n",
    "    Articles= Articles + response.json()[\"value\"]"
   ]
  },
  {
   "cell_type": "code",
   "execution_count": null,
   "id": "0c2b0bc5",
   "metadata": {},
   "outputs": [],
   "source": [
    "len(Articles)"
   ]
  },
  {
   "cell_type": "code",
   "execution_count": null,
   "id": "78f722ca",
   "metadata": {
    "scrolled": false
   },
   "outputs": [],
   "source": [
    "df=pd.DataFrame(Articles)"
   ]
  },
  {
   "cell_type": "markdown",
   "id": "6c70d4cb",
   "metadata": {},
   "source": [
    "Here we drop the articles which does not contain any images. We iterate over each cell in the column image to extract the contentUrl, and also drop the duplicates in the image section in order to provide unique images."
   ]
  },
  {
   "cell_type": "code",
   "execution_count": null,
   "id": "bda3a21d",
   "metadata": {},
   "outputs": [],
   "source": [
    "df1=df.drop([\"about\",\"provider\",\"mentions\",\"video\",\"category\", \"datePublished\"], axis=1)\n",
    "df1=df1.dropna()\n",
    "\n",
    "df1.loc[df1.index, \"image\"]=df1.loc[df1.index,\"image\"][\"contentUrl\"]\n",
    "\n",
    "df1=df1.drop_duplicates(subset=\"image\")\n",
    "df1"
   ]
  },
  {
   "cell_type": "code",
   "execution_count": null,
   "id": "c2a3ab48",
   "metadata": {},
   "outputs": [],
   "source": [
    "df1.to_csv(\"pna/data.csv\", sep=\";\")#saving the data into a local disk"
   ]
  },
  {
   "cell_type": "markdown",
   "id": "278d9024",
   "metadata": {},
   "source": [
    "# Collecting images for articles<a class=\"anchor\" id=\"third-bullet\"></a>"
   ]
  },
  {
   "cell_type": "code",
   "execution_count": null,
   "id": "1a291daf",
   "metadata": {
    "scrolled": true
   },
   "outputs": [],
   "source": [
    "df1 = pd.read_csv(\"pna/data.csv\", index_col=\"Unnamed: 0\").reset_index(drop=True)"
   ]
  },
  {
   "cell_type": "markdown",
   "id": "97a8f7dd",
   "metadata": {},
   "source": [
    "We download the images for using them for image recognition API. "
   ]
  },
  {
   "cell_type": "code",
   "execution_count": null,
   "id": "5b27bc54",
   "metadata": {},
   "outputs": [],
   "source": [
    "for i in df1.index:\n",
    "    url = df1.loc[i,\"image\"] #locating the image URL\n",
    "    r = requests.get(url, headers={\"User-Agent\": \"Mozilla/5.0 (Windows NT 10.0; Win64; x64; rv:87.0) Gecko/20100101 Firefox/87.0\"})\n",
    "    with open('pna/pna'+str(i)+\".jpg\", 'wb') as outfile:\n",
    "        outfile.write(r.content)"
   ]
  },
  {
   "cell_type": "markdown",
   "id": "5c9120b8",
   "metadata": {},
   "source": [
    "# Detecting Faces in Images and Analysing the Corresponding Age<a class=\"anchor\" id=\"fourth-bullet\"></a>"
   ]
  },
  {
   "cell_type": "markdown",
   "id": "e3a867f8",
   "metadata": {},
   "source": [
    "Using the Face API for Ages provided by the platform Cloudmersive, we analyse and scan the images for faces and their corresponding ages."
   ]
  },
  {
   "cell_type": "code",
   "execution_count": null,
   "id": "6aa9a647",
   "metadata": {},
   "outputs": [],
   "source": [
    "# Configure API key authorization: Apikey\n",
    "configuration = cloudmersive_image_api_client.Configuration()\n",
    "configuration.api_key['Apikey'] = '0a41265d-6ff5-4000-b5e4-91ad224df28e'\n",
    "\n",
    "response_age={}\n",
    "for i in df1.index:\n",
    "    # create an instance of the API class\n",
    "    api_instance = cloudmersive_image_api_client.FaceApi(cloudmersive_image_api_client.ApiClient(configuration))\n",
    "    image_file = 'pna/pna'+str(i)+\".jpg\" # file | Image file to perform the operation on.  Common file formats such as PNG, JPEG are supported.\n",
    "    try:\n",
    "        # Detect the age of people in an image\n",
    "        api_response = api_instance.face_detect_age(image_file)\n",
    "        response_age[i]=api_response\n",
    "        time.sleep(5)\n",
    "    except ApiException as e:\n",
    "        print(\"Exception when calling FaceApi->face_detect_age: %s\\n\" % e)\n",
    "        time.sleep(10)"
   ]
  },
  {
   "cell_type": "markdown",
   "id": "6508712f",
   "metadata": {},
   "source": [
    "As we got some exceptions while calling the Face API, we extract the successful calls keeping the corresponding  indices intact."
   ]
  },
  {
   "cell_type": "code",
   "execution_count": null,
   "id": "bbb7291c",
   "metadata": {},
   "outputs": [],
   "source": [
    "data_images = pd.DataFrame()\n",
    "for key, value in response_age.items():\n",
    "    data_images.loc[key, \"number_of_people\"] = value.people_identified\n",
    "    if value.people_identified>0:\n",
    "        data_images.at[key, \"people_with_age\"] = value.people_with_age"
   ]
  },
  {
   "cell_type": "code",
   "execution_count": null,
   "id": "43e193f6",
   "metadata": {},
   "outputs": [],
   "source": [
    "data_images"
   ]
  },
  {
   "cell_type": "markdown",
   "id": "9e9c869c",
   "metadata": {},
   "source": [
    "Further on we try to extract the age group for each individual present in the images."
   ]
  },
  {
   "cell_type": "code",
   "execution_count": null,
   "id": "d458f7ee",
   "metadata": {},
   "outputs": [],
   "source": [
    "index_nona = data_images[data_images[\"people_with_age\"].notna()].index.difference(pd.Index([1]))"
   ]
  },
  {
   "cell_type": "code",
   "execution_count": null,
   "id": "233f0aea",
   "metadata": {},
   "outputs": [],
   "source": [
    "for i in index_nona:\n",
    "    for person in range(0, len(data_images.loc[i, \"people_with_age\"])):\n",
    "        person_number = 'person_' + str(person) + \"_age\"\n",
    "        data_images.loc[i, person_number] = data_images.loc[i, \"people_with_age\"][person].age_class"
   ]
  },
  {
   "cell_type": "code",
   "execution_count": null,
   "id": "2d2c593f",
   "metadata": {},
   "outputs": [],
   "source": [
    "data_images.loc[1,\"person_0_age\"]=data_images.loc[1,\"people_with_age\"].age_class"
   ]
  },
  {
   "cell_type": "code",
   "execution_count": null,
   "id": "5ecf69ef",
   "metadata": {},
   "outputs": [],
   "source": [
    "data_images[data_images[\"number_of_people\"]>0]"
   ]
  },
  {
   "cell_type": "code",
   "execution_count": null,
   "id": "8f68fb75",
   "metadata": {},
   "outputs": [],
   "source": [
    "data_images.to_csv(\"pna/images_age.csv\")"
   ]
  },
  {
   "cell_type": "markdown",
   "id": "06a30276",
   "metadata": {},
   "source": [
    "# Detecting Faces in Images and Analysing the Corresponding Gender<a class=\"anchor\" id=\"fifth-bullet\"></a>"
   ]
  },
  {
   "cell_type": "markdown",
   "id": "aa146c8b",
   "metadata": {},
   "source": [
    "Using the Face API for Gender provided by the platform Cloudmersive we analyse and scan the images for faces and their corresponding gender."
   ]
  },
  {
   "cell_type": "code",
   "execution_count": null,
   "id": "ece6c171",
   "metadata": {
    "scrolled": true
   },
   "outputs": [],
   "source": [
    "configuration = cloudmersive_image_api_client.Configuration()\n",
    "configuration.api_key['Apikey'] = '07b144b5-9960-471d-8634-78076eb6525f'\n",
    "\n",
    "\n",
    "response={}\n",
    "for i in df1.index:\n",
    "    # create an instance of the API class\n",
    "    api_instance = cloudmersive_image_api_client.FaceApi(cloudmersive_image_api_client.ApiClient(configuration))\n",
    "    image_file = 'pna/pna'+str(i)+\".jpg\"  # file | Image file to perform the operation on.  Common file formats such as PNG, JPEG are supported.\n",
    "    try:\n",
    "        # Detect the gender of people in an image\n",
    "        api_response = api_instance.face_detect_gender(image_file)\n",
    "        response[i]=api_response\n",
    "        time.sleep(10)\n",
    "    except ApiException as e:\n",
    "        print(\"Exception when calling FaceApi->face_detect_gender: %s\\n\" % e)\n",
    "        time.sleep(5)"
   ]
  },
  {
   "cell_type": "code",
   "execution_count": null,
   "id": "cceb4f29",
   "metadata": {
    "scrolled": true
   },
   "outputs": [],
   "source": [
    "response"
   ]
  },
  {
   "cell_type": "markdown",
   "id": "18fcf634",
   "metadata": {},
   "source": [
    "As expected we have some exceptions while we called the Face API, we extract the successful calls keeping the corresponding indices intact."
   ]
  },
  {
   "cell_type": "code",
   "execution_count": null,
   "id": "7c195583",
   "metadata": {},
   "outputs": [],
   "source": [
    "gender = pd.DataFrame()\n",
    "for key, value in response.items():\n",
    "    gender.loc[key, \"number_of_people\"] = value.people_identified\n",
    "    if value.people_identified>0:\n",
    "        gender.at[key, \"people_with_gender\"]= value.person_with_gender"
   ]
  },
  {
   "cell_type": "markdown",
   "id": "41b7d655",
   "metadata": {},
   "source": [
    "Further on we extract the gender for each individual present in the images."
   ]
  },
  {
   "cell_type": "code",
   "execution_count": null,
   "id": "8e86f441",
   "metadata": {},
   "outputs": [],
   "source": [
    "index_nona_gender = gender[gender[\"people_with_gender\"].notna()].index.difference(pd.Index([1]))"
   ]
  },
  {
   "cell_type": "code",
   "execution_count": null,
   "id": "2fd13935",
   "metadata": {},
   "outputs": [],
   "source": [
    "for i in index_nona_gender:\n",
    "    for person in range(0, len(gender.loc[i, \"people_with_gender\"])):\n",
    "        person_number = 'person_' + str(person) + \"_gender\"\n",
    "        gender.loc[i, person_number] = gender.loc[i, \"people_with_gender\"][person].gender_class"
   ]
  },
  {
   "cell_type": "code",
   "execution_count": null,
   "id": "b0e9efe8",
   "metadata": {},
   "outputs": [],
   "source": [
    "gender.loc[1,\"person_0_gender\"] = gender.loc[1,\"people_with_gender\"].gender_class"
   ]
  },
  {
   "cell_type": "code",
   "execution_count": null,
   "id": "b268672b",
   "metadata": {},
   "outputs": [],
   "source": [
    "gender"
   ]
  },
  {
   "cell_type": "code",
   "execution_count": null,
   "id": "2628b715",
   "metadata": {},
   "outputs": [],
   "source": [
    "gender.to_csv(\"pna/images_gender.csv\")"
   ]
  },
  {
   "cell_type": "markdown",
   "id": "d5169f8e",
   "metadata": {},
   "source": [
    "# Get Text of the Article<a class=\"anchor\" id=\"sixth-bullet\"></a>"
   ]
  },
  {
   "cell_type": "markdown",
   "id": "d31f083a",
   "metadata": {},
   "source": [
    "We create a loop to extract the text of each article to see in the next section, if the sentiment in it is positive or negative."
   ]
  },
  {
   "cell_type": "code",
   "execution_count": null,
   "id": "e3021838",
   "metadata": {},
   "outputs": [],
   "source": [
    "df1 = pd.read_csv(\"pna/data.csv\", index_col=\"Unnamed: 0\")"
   ]
  },
  {
   "cell_type": "code",
   "execution_count": null,
   "id": "2e655d81",
   "metadata": {},
   "outputs": [],
   "source": [
    "for obs in df1.index:\n",
    "    url = df1.loc[obs,\"url\"] #locating the image URL\n",
    "    r = requests.get(url, headers={\"User-Agent\": \"Mozilla/5.0 (Windows NT 10.0; Win64; x64; rv:87.0) Gecko/20100101 Firefox/87.0\"})\n",
    "    text = \"\"\n",
    "    for paragraph in BeautifulSoup(r.text).find_all('p'):\n",
    "        text = text + paragraph.get_text()\n",
    "        df1.loc[obs,\"article\"]=text.replace(\"\\n\", \" \").replace(\"\\t\", \"\").replace(\"\\xa0\", \" \")\n",
    "    time.sleep(2)"
   ]
  },
  {
   "cell_type": "code",
   "execution_count": null,
   "id": "01c96fb1",
   "metadata": {},
   "outputs": [],
   "source": [
    "index_notna = df1[df1[\"article\"].notna()].index"
   ]
  },
  {
   "cell_type": "code",
   "execution_count": null,
   "id": "a61e0be4",
   "metadata": {},
   "outputs": [],
   "source": [
    "df1.to_csv(\"pna/data.csv\")"
   ]
  },
  {
   "cell_type": "markdown",
   "id": "c33a919a",
   "metadata": {},
   "source": [
    "# Sentiment Analysis<a class=\"anchor\" id=\"seventh-bullet\"></a>"
   ]
  },
  {
   "cell_type": "markdown",
   "id": "3d726b92",
   "metadata": {},
   "source": [
    "Sentiment analysis is the use of natural language processing for sorting the sympethetic and dissapproving news.  For the package we use for analysis we consider sympethetic news to be those with positive sentiment and dissaproving news as those with negative sentiment. We use the scraped article text to obtain the sentiment variable and add it to the existing dataframe."
   ]
  },
  {
   "cell_type": "code",
   "execution_count": null,
   "id": "64bec6e1",
   "metadata": {},
   "outputs": [],
   "source": [
    "df1 = pd.read_csv(\"pna/data.csv\", index_col=\"Unnamed: 0\")"
   ]
  },
  {
   "cell_type": "code",
   "execution_count": null,
   "id": "991e1ad6",
   "metadata": {},
   "outputs": [],
   "source": [
    "for i in index_notna:\n",
    "    news=df1.loc[i,\"article\"]\n",
    "    classifier = TextClassifier.load('en-sentiment')\n",
    "    sentence = Sentence(news)\n",
    "    classifier.predict(sentence)\n",
    "    df1.loc[i,\"senti\"]=sentence.labels"
   ]
  },
  {
   "cell_type": "code",
   "execution_count": null,
   "id": "4b17385f",
   "metadata": {},
   "outputs": [],
   "source": [
    "df1"
   ]
  },
  {
   "cell_type": "code",
   "execution_count": null,
   "id": "5b2db7b5",
   "metadata": {},
   "outputs": [],
   "source": [
    "df1.loc[:, 'sentiment'] = df1.senti.map(lambda x: x[0])"
   ]
  },
  {
   "cell_type": "code",
   "execution_count": null,
   "id": "a4e5b613",
   "metadata": {},
   "outputs": [],
   "source": [
    "df1.to_csv(\"pna/data.csv\")"
   ]
  },
  {
   "cell_type": "markdown",
   "id": "d4af51ab",
   "metadata": {},
   "source": [
    "# Merge Data Frames<a class=\"anchor\" id=\"eighth-bullet\"></a>"
   ]
  },
  {
   "cell_type": "markdown",
   "id": "b6770d4b",
   "metadata": {},
   "source": [
    "We merge all data frames, i.e. the main dataframe, the dataframe for the age and the dataframe for the gender."
   ]
  },
  {
   "cell_type": "code",
   "execution_count": null,
   "id": "b25b6767",
   "metadata": {},
   "outputs": [],
   "source": [
    "df1 = pd.read_csv(\"pna/data.csv\", index_col=\"Unnamed: 0\")\n",
    "data_images = pd.read_csv(\"pna/images_age.csv\", index_col=\"Unnamed: 0\")\n",
    "gender = pd.read_csv(\"pna/images_gender.csv\", index_col = \"Unnamed: 0\").drop(\"number_of_people\", axis =1)"
   ]
  },
  {
   "cell_type": "code",
   "execution_count": null,
   "id": "38cc8a0f",
   "metadata": {
    "scrolled": true
   },
   "outputs": [],
   "source": [
    "data=[df1,data_images, gender]\n",
    "big_data=pd.concat(data,axis=1)\n",
    "big_data=big_data.drop([\"people_with_gender\",\"people_with_age\", \"senti\"],axis=1)\n",
    "big_data=big_data.rename(columns={'_type': 'type', 'datePublished': 'date_published'})\n",
    "big_data.to_csv(\"pna/big_data.csv\", sep=\";\")"
   ]
  },
  {
   "cell_type": "code",
   "execution_count": null,
   "id": "94fa2cbc",
   "metadata": {},
   "outputs": [],
   "source": [
    "big_data"
   ]
  },
  {
   "cell_type": "markdown",
   "id": "44c011ec",
   "metadata": {},
   "source": [
    "We replace the elements in 'sentiment' column in the big_data dataframe with just 'POSITIVE' and 'NEGATIVE' strings."
   ]
  },
  {
   "cell_type": "code",
   "execution_count": null,
   "id": "b5690910",
   "metadata": {},
   "outputs": [],
   "source": [
    "big_data[\"probability\"] = big_data[\"sentiment\"].str.extract(r'([\\d\\.]+)')"
   ]
  },
  {
   "cell_type": "code",
   "execution_count": null,
   "id": "8eba6649",
   "metadata": {},
   "outputs": [],
   "source": [
    "big_data[\"sentiment\"] = big_data[\"sentiment\"].str.replace(r'[\\d\\.\\(\\) ]+','')"
   ]
  },
  {
   "cell_type": "code",
   "execution_count": null,
   "id": "9878130f",
   "metadata": {},
   "outputs": [],
   "source": [
    "big_data"
   ]
  },
  {
   "cell_type": "code",
   "execution_count": null,
   "id": "9a22fd00",
   "metadata": {},
   "outputs": [],
   "source": [
    "big_data.to_csv(\"pna/big_data.csv\", sep=\";\")"
   ]
  },
  {
   "cell_type": "markdown",
   "id": "e1e22100",
   "metadata": {},
   "source": [
    "# Create Indicator Variable for Children, Women and Senior Citizens<a class=\"anchor\" id=\"ninth-bullet\"></a>"
   ]
  },
  {
   "cell_type": "code",
   "execution_count": 3,
   "id": "5f0590e9",
   "metadata": {},
   "outputs": [
    {
     "data": {
      "text/html": [
       "<div>\n",
       "<style scoped>\n",
       "    .dataframe tbody tr th:only-of-type {\n",
       "        vertical-align: middle;\n",
       "    }\n",
       "\n",
       "    .dataframe tbody tr th {\n",
       "        vertical-align: top;\n",
       "    }\n",
       "\n",
       "    .dataframe thead th {\n",
       "        text-align: right;\n",
       "    }\n",
       "</style>\n",
       "<table border=\"1\" class=\"dataframe\">\n",
       "  <thead>\n",
       "    <tr style=\"text-align: right;\">\n",
       "      <th></th>\n",
       "      <th>type</th>\n",
       "      <th>name</th>\n",
       "      <th>url</th>\n",
       "      <th>description</th>\n",
       "      <th>date_published</th>\n",
       "      <th>image</th>\n",
       "      <th>article</th>\n",
       "      <th>sentiment</th>\n",
       "      <th>number_of_people</th>\n",
       "      <th>person_0_age</th>\n",
       "      <th>person_1_age</th>\n",
       "      <th>person_2_age</th>\n",
       "      <th>person_3_age</th>\n",
       "      <th>person_0_gender</th>\n",
       "      <th>person_1_gender</th>\n",
       "      <th>person_2_gender</th>\n",
       "      <th>person_3_gender</th>\n",
       "      <th>probability</th>\n",
       "    </tr>\n",
       "  </thead>\n",
       "  <tbody>\n",
       "    <tr>\n",
       "      <th>0</th>\n",
       "      <td>NewsArticle</td>\n",
       "      <td>Increasing Poverty And Declining Middle Class ...</td>\n",
       "      <td>https://www.hydnews.net/increasing-poverty-and...</td>\n",
       "      <td>The consequences of the pandemic and lockdown ...</td>\n",
       "      <td>2021-04-19T10:11:00.0000000Z</td>\n",
       "      <td>https://secureservercdn.net/160.153.137.14/a0b...</td>\n",
       "      <td>The consequences of the pandemic and lockdown ...</td>\n",
       "      <td>NEGATIVE</td>\n",
       "      <td>0.0</td>\n",
       "      <td>NaN</td>\n",
       "      <td>NaN</td>\n",
       "      <td>NaN</td>\n",
       "      <td>NaN</td>\n",
       "      <td>NaN</td>\n",
       "      <td>NaN</td>\n",
       "      <td>NaN</td>\n",
       "      <td>NaN</td>\n",
       "      <td>0.9997</td>\n",
       "    </tr>\n",
       "    <tr>\n",
       "      <th>1</th>\n",
       "      <td>NewsArticle</td>\n",
       "      <td>A carbon border tax will harm the poor world t...</td>\n",
       "      <td>https://www.ocregister.com/2021/04/19/a-carbon...</td>\n",
       "      <td>Depriving the world’s poor of the twin drivers...</td>\n",
       "      <td>2021-04-19T07:37:00.0000000Z</td>\n",
       "      <td>https://www.ocregister.com/wp-content/uploads/...</td>\n",
       "      <td>Trending:To tackle climate change, rich natio...</td>\n",
       "      <td>NEGATIVE</td>\n",
       "      <td>1.0</td>\n",
       "      <td>38-43</td>\n",
       "      <td>NaN</td>\n",
       "      <td>NaN</td>\n",
       "      <td>NaN</td>\n",
       "      <td>Unknown</td>\n",
       "      <td>NaN</td>\n",
       "      <td>NaN</td>\n",
       "      <td>NaN</td>\n",
       "      <td>0.9979</td>\n",
       "    </tr>\n",
       "    <tr>\n",
       "      <th>2</th>\n",
       "      <td>NewsArticle</td>\n",
       "      <td>L.A. Set to Be Largest City to Offer Guarantee...</td>\n",
       "      <td>https://www.bloomberg.com/news/articles/2021-0...</td>\n",
       "      <td>Los Angeles Mayor Eric Garcetti is proposing a...</td>\n",
       "      <td>2021-04-19T14:00:00.0000000Z</td>\n",
       "      <td>https://assets.bwbx.io/images/users/iqjWHBFdfx...</td>\n",
       "      <td>To continue, please click the box below to let...</td>\n",
       "      <td>NEGATIVE</td>\n",
       "      <td>1.0</td>\n",
       "      <td>48-53</td>\n",
       "      <td>NaN</td>\n",
       "      <td>NaN</td>\n",
       "      <td>NaN</td>\n",
       "      <td>Male</td>\n",
       "      <td>NaN</td>\n",
       "      <td>NaN</td>\n",
       "      <td>NaN</td>\n",
       "      <td>0.9957</td>\n",
       "    </tr>\n",
       "    <tr>\n",
       "      <th>3</th>\n",
       "      <td>NewsArticle</td>\n",
       "      <td>All-China Women&amp;#39;s Federation lifts over 5 ...</td>\n",
       "      <td>https://www.iol.co.za/business-report/ending-p...</td>\n",
       "      <td>With more importance being attached on women i...</td>\n",
       "      <td>2021-04-19T12:57:00.0000000Z</td>\n",
       "      <td>https://image-prod.iol.co.za/resize/630x366?so...</td>\n",
       "      <td>By  People’s Daily Online SA   Apr 19, 2021Sha...</td>\n",
       "      <td>POSITIVE</td>\n",
       "      <td>0.0</td>\n",
       "      <td>NaN</td>\n",
       "      <td>NaN</td>\n",
       "      <td>NaN</td>\n",
       "      <td>NaN</td>\n",
       "      <td>NaN</td>\n",
       "      <td>NaN</td>\n",
       "      <td>NaN</td>\n",
       "      <td>NaN</td>\n",
       "      <td>0.7539</td>\n",
       "    </tr>\n",
       "    <tr>\n",
       "      <th>4</th>\n",
       "      <td>NewsArticle</td>\n",
       "      <td>China’s road to poverty alleviation</td>\n",
       "      <td>https://tribune.com.pk/story/2294739/chinas-ro...</td>\n",
       "      <td>China’s transition from a small agrarian socie...</td>\n",
       "      <td>2021-04-14T18:22:00.0000000Z</td>\n",
       "      <td>https://i.tribune.com.pk/media/images/Azhar-Az...</td>\n",
       "      <td>China’s transition from a small agrarian socie...</td>\n",
       "      <td>POSITIVE</td>\n",
       "      <td>1.0</td>\n",
       "      <td>38-43</td>\n",
       "      <td>NaN</td>\n",
       "      <td>NaN</td>\n",
       "      <td>NaN</td>\n",
       "      <td>Male</td>\n",
       "      <td>NaN</td>\n",
       "      <td>NaN</td>\n",
       "      <td>NaN</td>\n",
       "      <td>0.9807</td>\n",
       "    </tr>\n",
       "    <tr>\n",
       "      <th>...</th>\n",
       "      <td>...</td>\n",
       "      <td>...</td>\n",
       "      <td>...</td>\n",
       "      <td>...</td>\n",
       "      <td>...</td>\n",
       "      <td>...</td>\n",
       "      <td>...</td>\n",
       "      <td>...</td>\n",
       "      <td>...</td>\n",
       "      <td>...</td>\n",
       "      <td>...</td>\n",
       "      <td>...</td>\n",
       "      <td>...</td>\n",
       "      <td>...</td>\n",
       "      <td>...</td>\n",
       "      <td>...</td>\n",
       "      <td>...</td>\n",
       "      <td>...</td>\n",
       "    </tr>\n",
       "    <tr>\n",
       "      <th>80</th>\n",
       "      <td>NewsArticle</td>\n",
       "      <td>Langston Centre hosting exhibit on Martin Luth...</td>\n",
       "      <td>https://www.wjhl.com/news/local/langston-centr...</td>\n",
       "      <td>JOHNSON CITY, Tenn. (WJHL) — The Langton Centr...</td>\n",
       "      <td>2021-04-13T01:40:00.0000000Z</td>\n",
       "      <td>https://www.wjhl.com/wp-content/uploads/sites/...</td>\n",
       "      <td>This site is currently unavailable to visitors...</td>\n",
       "      <td>NEGATIVE</td>\n",
       "      <td>0.0</td>\n",
       "      <td>NaN</td>\n",
       "      <td>NaN</td>\n",
       "      <td>NaN</td>\n",
       "      <td>NaN</td>\n",
       "      <td>NaN</td>\n",
       "      <td>NaN</td>\n",
       "      <td>NaN</td>\n",
       "      <td>NaN</td>\n",
       "      <td>0.9668</td>\n",
       "    </tr>\n",
       "    <tr>\n",
       "      <th>81</th>\n",
       "      <td>NewsArticle</td>\n",
       "      <td>Reaching out to the poor is our mandate – BAT ...</td>\n",
       "      <td>https://www.thenewsnigeria.com.ng/2021/04/16/r...</td>\n",
       "      <td>The director general of the Bola Ahmed Tinubu ...</td>\n",
       "      <td>2021-04-16T20:55:00.0000000Z</td>\n",
       "      <td>https://i0.wp.com/www.thenewsnigeria.com.ng/wp...</td>\n",
       "      <td>Friday, April 16, 2021 10:55 pm BAT Foundation...</td>\n",
       "      <td>NEGATIVE</td>\n",
       "      <td>0.0</td>\n",
       "      <td>NaN</td>\n",
       "      <td>NaN</td>\n",
       "      <td>NaN</td>\n",
       "      <td>NaN</td>\n",
       "      <td>NaN</td>\n",
       "      <td>NaN</td>\n",
       "      <td>NaN</td>\n",
       "      <td>NaN</td>\n",
       "      <td>0.5968</td>\n",
       "    </tr>\n",
       "    <tr>\n",
       "      <th>82</th>\n",
       "      <td>NewsArticle</td>\n",
       "      <td>Biden’s First Hundred Days: A Historical Audit</td>\n",
       "      <td>https://www.thenation.com/article/economy/bide...</td>\n",
       "      <td>The president has made a promising start on a ...</td>\n",
       "      <td>2021-04-17T09:00:00.0000000Z</td>\n",
       "      <td>https://www.thenation.com/wp-content/uploads/2...</td>\n",
       "      <td>President Joe Biden. (Andrew Caballero-Reynold...</td>\n",
       "      <td>POSITIVE</td>\n",
       "      <td>1.0</td>\n",
       "      <td>60+</td>\n",
       "      <td>NaN</td>\n",
       "      <td>NaN</td>\n",
       "      <td>NaN</td>\n",
       "      <td>Male</td>\n",
       "      <td>NaN</td>\n",
       "      <td>NaN</td>\n",
       "      <td>NaN</td>\n",
       "      <td>0.8618</td>\n",
       "    </tr>\n",
       "    <tr>\n",
       "      <th>83</th>\n",
       "      <td>NewsArticle</td>\n",
       "      <td>District 5 council candidates aim for open sea...</td>\n",
       "      <td>https://www.expressnews.com/news/local/article...</td>\n",
       "      <td>Key issues in the May 1 race for the open seat...</td>\n",
       "      <td>2021-04-13T01:48:00.0000000Z</td>\n",
       "      <td>https://s.hdnux.com/photos/01/15/71/75/2042251...</td>\n",
       "      <td>Major issues in a crowded City Council race in...</td>\n",
       "      <td>NEGATIVE</td>\n",
       "      <td>0.0</td>\n",
       "      <td>NaN</td>\n",
       "      <td>NaN</td>\n",
       "      <td>NaN</td>\n",
       "      <td>NaN</td>\n",
       "      <td>NaN</td>\n",
       "      <td>NaN</td>\n",
       "      <td>NaN</td>\n",
       "      <td>NaN</td>\n",
       "      <td>0.6114</td>\n",
       "    </tr>\n",
       "    <tr>\n",
       "      <th>84</th>\n",
       "      <td>NewsArticle</td>\n",
       "      <td>African Trade Insurance Agency (ATI)&amp;#39;s Tra...</td>\n",
       "      <td>https://www.pulse.ng/apo/african-trade-insuran...</td>\n",
       "      <td>ESCOM, Malawi’s national power utility, made t...</td>\n",
       "      <td>2021-04-12T07:02:00.0000000Z</td>\n",
       "      <td>https://ocdn.eu/pulscms-transforms/1/A7QktktTU...</td>\n",
       "      <td>Authors:ESCOM, Malawi’s national power utility...</td>\n",
       "      <td>POSITIVE</td>\n",
       "      <td>0.0</td>\n",
       "      <td>NaN</td>\n",
       "      <td>NaN</td>\n",
       "      <td>NaN</td>\n",
       "      <td>NaN</td>\n",
       "      <td>NaN</td>\n",
       "      <td>NaN</td>\n",
       "      <td>NaN</td>\n",
       "      <td>NaN</td>\n",
       "      <td>0.8352</td>\n",
       "    </tr>\n",
       "  </tbody>\n",
       "</table>\n",
       "<p>85 rows × 18 columns</p>\n",
       "</div>"
      ],
      "text/plain": [
       "           type                                               name  \\\n",
       "0   NewsArticle  Increasing Poverty And Declining Middle Class ...   \n",
       "1   NewsArticle  A carbon border tax will harm the poor world t...   \n",
       "2   NewsArticle  L.A. Set to Be Largest City to Offer Guarantee...   \n",
       "3   NewsArticle  All-China Women&#39;s Federation lifts over 5 ...   \n",
       "4   NewsArticle                China’s road to poverty alleviation   \n",
       "..          ...                                                ...   \n",
       "80  NewsArticle  Langston Centre hosting exhibit on Martin Luth...   \n",
       "81  NewsArticle  Reaching out to the poor is our mandate – BAT ...   \n",
       "82  NewsArticle     Biden’s First Hundred Days: A Historical Audit   \n",
       "83  NewsArticle  District 5 council candidates aim for open sea...   \n",
       "84  NewsArticle  African Trade Insurance Agency (ATI)&#39;s Tra...   \n",
       "\n",
       "                                                  url  \\\n",
       "0   https://www.hydnews.net/increasing-poverty-and...   \n",
       "1   https://www.ocregister.com/2021/04/19/a-carbon...   \n",
       "2   https://www.bloomberg.com/news/articles/2021-0...   \n",
       "3   https://www.iol.co.za/business-report/ending-p...   \n",
       "4   https://tribune.com.pk/story/2294739/chinas-ro...   \n",
       "..                                                ...   \n",
       "80  https://www.wjhl.com/news/local/langston-centr...   \n",
       "81  https://www.thenewsnigeria.com.ng/2021/04/16/r...   \n",
       "82  https://www.thenation.com/article/economy/bide...   \n",
       "83  https://www.expressnews.com/news/local/article...   \n",
       "84  https://www.pulse.ng/apo/african-trade-insuran...   \n",
       "\n",
       "                                          description  \\\n",
       "0   The consequences of the pandemic and lockdown ...   \n",
       "1   Depriving the world’s poor of the twin drivers...   \n",
       "2   Los Angeles Mayor Eric Garcetti is proposing a...   \n",
       "3   With more importance being attached on women i...   \n",
       "4   China’s transition from a small agrarian socie...   \n",
       "..                                                ...   \n",
       "80  JOHNSON CITY, Tenn. (WJHL) — The Langton Centr...   \n",
       "81  The director general of the Bola Ahmed Tinubu ...   \n",
       "82  The president has made a promising start on a ...   \n",
       "83  Key issues in the May 1 race for the open seat...   \n",
       "84  ESCOM, Malawi’s national power utility, made t...   \n",
       "\n",
       "                  date_published  \\\n",
       "0   2021-04-19T10:11:00.0000000Z   \n",
       "1   2021-04-19T07:37:00.0000000Z   \n",
       "2   2021-04-19T14:00:00.0000000Z   \n",
       "3   2021-04-19T12:57:00.0000000Z   \n",
       "4   2021-04-14T18:22:00.0000000Z   \n",
       "..                           ...   \n",
       "80  2021-04-13T01:40:00.0000000Z   \n",
       "81  2021-04-16T20:55:00.0000000Z   \n",
       "82  2021-04-17T09:00:00.0000000Z   \n",
       "83  2021-04-13T01:48:00.0000000Z   \n",
       "84  2021-04-12T07:02:00.0000000Z   \n",
       "\n",
       "                                                image  \\\n",
       "0   https://secureservercdn.net/160.153.137.14/a0b...   \n",
       "1   https://www.ocregister.com/wp-content/uploads/...   \n",
       "2   https://assets.bwbx.io/images/users/iqjWHBFdfx...   \n",
       "3   https://image-prod.iol.co.za/resize/630x366?so...   \n",
       "4   https://i.tribune.com.pk/media/images/Azhar-Az...   \n",
       "..                                                ...   \n",
       "80  https://www.wjhl.com/wp-content/uploads/sites/...   \n",
       "81  https://i0.wp.com/www.thenewsnigeria.com.ng/wp...   \n",
       "82  https://www.thenation.com/wp-content/uploads/2...   \n",
       "83  https://s.hdnux.com/photos/01/15/71/75/2042251...   \n",
       "84  https://ocdn.eu/pulscms-transforms/1/A7QktktTU...   \n",
       "\n",
       "                                              article sentiment  \\\n",
       "0   The consequences of the pandemic and lockdown ...  NEGATIVE   \n",
       "1    Trending:To tackle climate change, rich natio...  NEGATIVE   \n",
       "2   To continue, please click the box below to let...  NEGATIVE   \n",
       "3   By  People’s Daily Online SA   Apr 19, 2021Sha...  POSITIVE   \n",
       "4   China’s transition from a small agrarian socie...  POSITIVE   \n",
       "..                                                ...       ...   \n",
       "80  This site is currently unavailable to visitors...  NEGATIVE   \n",
       "81  Friday, April 16, 2021 10:55 pm BAT Foundation...  NEGATIVE   \n",
       "82  President Joe Biden. (Andrew Caballero-Reynold...  POSITIVE   \n",
       "83  Major issues in a crowded City Council race in...  NEGATIVE   \n",
       "84  Authors:ESCOM, Malawi’s national power utility...  POSITIVE   \n",
       "\n",
       "    number_of_people person_0_age person_1_age person_2_age person_3_age  \\\n",
       "0                0.0          NaN          NaN          NaN          NaN   \n",
       "1                1.0        38-43          NaN          NaN          NaN   \n",
       "2                1.0        48-53          NaN          NaN          NaN   \n",
       "3                0.0          NaN          NaN          NaN          NaN   \n",
       "4                1.0        38-43          NaN          NaN          NaN   \n",
       "..               ...          ...          ...          ...          ...   \n",
       "80               0.0          NaN          NaN          NaN          NaN   \n",
       "81               0.0          NaN          NaN          NaN          NaN   \n",
       "82               1.0          60+          NaN          NaN          NaN   \n",
       "83               0.0          NaN          NaN          NaN          NaN   \n",
       "84               0.0          NaN          NaN          NaN          NaN   \n",
       "\n",
       "   person_0_gender person_1_gender person_2_gender person_3_gender  \\\n",
       "0              NaN             NaN             NaN             NaN   \n",
       "1          Unknown             NaN             NaN             NaN   \n",
       "2             Male             NaN             NaN             NaN   \n",
       "3              NaN             NaN             NaN             NaN   \n",
       "4             Male             NaN             NaN             NaN   \n",
       "..             ...             ...             ...             ...   \n",
       "80             NaN             NaN             NaN             NaN   \n",
       "81             NaN             NaN             NaN             NaN   \n",
       "82            Male             NaN             NaN             NaN   \n",
       "83             NaN             NaN             NaN             NaN   \n",
       "84             NaN             NaN             NaN             NaN   \n",
       "\n",
       "    probability  \n",
       "0        0.9997  \n",
       "1        0.9979  \n",
       "2        0.9957  \n",
       "3        0.7539  \n",
       "4        0.9807  \n",
       "..          ...  \n",
       "80       0.9668  \n",
       "81       0.5968  \n",
       "82       0.8618  \n",
       "83       0.6114  \n",
       "84       0.8352  \n",
       "\n",
       "[85 rows x 18 columns]"
      ]
     },
     "execution_count": 3,
     "metadata": {},
     "output_type": "execute_result"
    }
   ],
   "source": [
    "big_data=pd.read_csv(\"pna/big_data.csv\", index_col = \"Unnamed: 0\", sep=\";\")\n",
    "big_data"
   ]
  },
  {
   "cell_type": "code",
   "execution_count": null,
   "id": "10f290bc",
   "metadata": {},
   "outputs": [],
   "source": [
    "big_data = big_data.drop(big_data[big_data[\"article\"].isna()].index)"
   ]
  },
  {
   "cell_type": "markdown",
   "id": "9b0f76f9",
   "metadata": {},
   "source": [
    "We add a new column 'young' to indicate if there is presence of a child in the image. The string 'Depicts Children' is used to indicate presence of children or a child."
   ]
  },
  {
   "cell_type": "code",
   "execution_count": 4,
   "id": "837c52e3",
   "metadata": {},
   "outputs": [],
   "source": [
    "young_index = big_data.query(\"person_0_age == '4-6' | person_0_age == '15-20' |person_1_age == '4-6' |person_1_age == '15-20' |person_2_age == '4-6' |person_2_age == '15-20' |person_3_age == '4-6' | person_3_age == '15-20'\").index\n",
    "big_data.loc[young_index,\"young\"] = \"Depicts Children\"\n",
    "big_data.loc[big_data[\"young\"].isna(), \"young\"]=\"No Children\""
   ]
  },
  {
   "cell_type": "markdown",
   "id": "77695a8b",
   "metadata": {},
   "source": [
    "Here we indicate the presence of a senior citizen using the string 'Depicts Seniors' in the image and 'No Seniors' for the absence of a senior citizen. These indicators are stored in the column 'old' in the main data frame (big_data) using the code given below. "
   ]
  },
  {
   "cell_type": "code",
   "execution_count": 5,
   "id": "eab4c3a7",
   "metadata": {},
   "outputs": [],
   "source": [
    "old_index = big_data.query(\"person_0_gender == '48-53' | person_0_age == '60+' |person_1_age == '48-53' |person_1_age == '60+' |person_2_age == '48-53' |person_2_age == '60+' |person_3_age == '48-53' | person_3_age == '60+'\").index\n",
    "big_data.loc[old_index,\"old\"] = \"Depicts Seniors\"\n",
    "big_data.loc[big_data[\"old\"].isna(), \"old\"]=\"No Seniors\" "
   ]
  },
  {
   "cell_type": "markdown",
   "id": "1d059e85",
   "metadata": {},
   "source": [
    "Same as above, we use indicator 'Depicts Women' for presence of women in an image and 'No Women' to indicate absence of women. These indicators are stored in the column 'Female' in the main data frame (big_data)."
   ]
  },
  {
   "cell_type": "code",
   "execution_count": 6,
   "id": "0dc9d917",
   "metadata": {
    "scrolled": true
   },
   "outputs": [
    {
     "data": {
      "text/html": [
       "<div>\n",
       "<style scoped>\n",
       "    .dataframe tbody tr th:only-of-type {\n",
       "        vertical-align: middle;\n",
       "    }\n",
       "\n",
       "    .dataframe tbody tr th {\n",
       "        vertical-align: top;\n",
       "    }\n",
       "\n",
       "    .dataframe thead th {\n",
       "        text-align: right;\n",
       "    }\n",
       "</style>\n",
       "<table border=\"1\" class=\"dataframe\">\n",
       "  <thead>\n",
       "    <tr style=\"text-align: right;\">\n",
       "      <th></th>\n",
       "      <th>type</th>\n",
       "      <th>name</th>\n",
       "      <th>url</th>\n",
       "      <th>description</th>\n",
       "      <th>date_published</th>\n",
       "      <th>image</th>\n",
       "      <th>article</th>\n",
       "      <th>sentiment</th>\n",
       "      <th>number_of_people</th>\n",
       "      <th>person_0_age</th>\n",
       "      <th>...</th>\n",
       "      <th>person_2_age</th>\n",
       "      <th>person_3_age</th>\n",
       "      <th>person_0_gender</th>\n",
       "      <th>person_1_gender</th>\n",
       "      <th>person_2_gender</th>\n",
       "      <th>person_3_gender</th>\n",
       "      <th>probability</th>\n",
       "      <th>young</th>\n",
       "      <th>old</th>\n",
       "      <th>Female</th>\n",
       "    </tr>\n",
       "  </thead>\n",
       "  <tbody>\n",
       "    <tr>\n",
       "      <th>0</th>\n",
       "      <td>NewsArticle</td>\n",
       "      <td>Increasing Poverty And Declining Middle Class ...</td>\n",
       "      <td>https://www.hydnews.net/increasing-poverty-and...</td>\n",
       "      <td>The consequences of the pandemic and lockdown ...</td>\n",
       "      <td>2021-04-19T10:11:00.0000000Z</td>\n",
       "      <td>https://secureservercdn.net/160.153.137.14/a0b...</td>\n",
       "      <td>The consequences of the pandemic and lockdown ...</td>\n",
       "      <td>NEGATIVE</td>\n",
       "      <td>0.0</td>\n",
       "      <td>NaN</td>\n",
       "      <td>...</td>\n",
       "      <td>NaN</td>\n",
       "      <td>NaN</td>\n",
       "      <td>NaN</td>\n",
       "      <td>NaN</td>\n",
       "      <td>NaN</td>\n",
       "      <td>NaN</td>\n",
       "      <td>0.9997</td>\n",
       "      <td>No Children</td>\n",
       "      <td>No Seniors</td>\n",
       "      <td>No Women</td>\n",
       "    </tr>\n",
       "    <tr>\n",
       "      <th>1</th>\n",
       "      <td>NewsArticle</td>\n",
       "      <td>A carbon border tax will harm the poor world t...</td>\n",
       "      <td>https://www.ocregister.com/2021/04/19/a-carbon...</td>\n",
       "      <td>Depriving the world’s poor of the twin drivers...</td>\n",
       "      <td>2021-04-19T07:37:00.0000000Z</td>\n",
       "      <td>https://www.ocregister.com/wp-content/uploads/...</td>\n",
       "      <td>Trending:To tackle climate change, rich natio...</td>\n",
       "      <td>NEGATIVE</td>\n",
       "      <td>1.0</td>\n",
       "      <td>38-43</td>\n",
       "      <td>...</td>\n",
       "      <td>NaN</td>\n",
       "      <td>NaN</td>\n",
       "      <td>Unknown</td>\n",
       "      <td>NaN</td>\n",
       "      <td>NaN</td>\n",
       "      <td>NaN</td>\n",
       "      <td>0.9979</td>\n",
       "      <td>No Children</td>\n",
       "      <td>No Seniors</td>\n",
       "      <td>No Women</td>\n",
       "    </tr>\n",
       "    <tr>\n",
       "      <th>2</th>\n",
       "      <td>NewsArticle</td>\n",
       "      <td>L.A. Set to Be Largest City to Offer Guarantee...</td>\n",
       "      <td>https://www.bloomberg.com/news/articles/2021-0...</td>\n",
       "      <td>Los Angeles Mayor Eric Garcetti is proposing a...</td>\n",
       "      <td>2021-04-19T14:00:00.0000000Z</td>\n",
       "      <td>https://assets.bwbx.io/images/users/iqjWHBFdfx...</td>\n",
       "      <td>To continue, please click the box below to let...</td>\n",
       "      <td>NEGATIVE</td>\n",
       "      <td>1.0</td>\n",
       "      <td>48-53</td>\n",
       "      <td>...</td>\n",
       "      <td>NaN</td>\n",
       "      <td>NaN</td>\n",
       "      <td>Male</td>\n",
       "      <td>NaN</td>\n",
       "      <td>NaN</td>\n",
       "      <td>NaN</td>\n",
       "      <td>0.9957</td>\n",
       "      <td>No Children</td>\n",
       "      <td>No Seniors</td>\n",
       "      <td>No Women</td>\n",
       "    </tr>\n",
       "    <tr>\n",
       "      <th>3</th>\n",
       "      <td>NewsArticle</td>\n",
       "      <td>All-China Women&amp;#39;s Federation lifts over 5 ...</td>\n",
       "      <td>https://www.iol.co.za/business-report/ending-p...</td>\n",
       "      <td>With more importance being attached on women i...</td>\n",
       "      <td>2021-04-19T12:57:00.0000000Z</td>\n",
       "      <td>https://image-prod.iol.co.za/resize/630x366?so...</td>\n",
       "      <td>By  People’s Daily Online SA   Apr 19, 2021Sha...</td>\n",
       "      <td>POSITIVE</td>\n",
       "      <td>0.0</td>\n",
       "      <td>NaN</td>\n",
       "      <td>...</td>\n",
       "      <td>NaN</td>\n",
       "      <td>NaN</td>\n",
       "      <td>NaN</td>\n",
       "      <td>NaN</td>\n",
       "      <td>NaN</td>\n",
       "      <td>NaN</td>\n",
       "      <td>0.7539</td>\n",
       "      <td>No Children</td>\n",
       "      <td>No Seniors</td>\n",
       "      <td>No Women</td>\n",
       "    </tr>\n",
       "    <tr>\n",
       "      <th>4</th>\n",
       "      <td>NewsArticle</td>\n",
       "      <td>China’s road to poverty alleviation</td>\n",
       "      <td>https://tribune.com.pk/story/2294739/chinas-ro...</td>\n",
       "      <td>China’s transition from a small agrarian socie...</td>\n",
       "      <td>2021-04-14T18:22:00.0000000Z</td>\n",
       "      <td>https://i.tribune.com.pk/media/images/Azhar-Az...</td>\n",
       "      <td>China’s transition from a small agrarian socie...</td>\n",
       "      <td>POSITIVE</td>\n",
       "      <td>1.0</td>\n",
       "      <td>38-43</td>\n",
       "      <td>...</td>\n",
       "      <td>NaN</td>\n",
       "      <td>NaN</td>\n",
       "      <td>Male</td>\n",
       "      <td>NaN</td>\n",
       "      <td>NaN</td>\n",
       "      <td>NaN</td>\n",
       "      <td>0.9807</td>\n",
       "      <td>No Children</td>\n",
       "      <td>No Seniors</td>\n",
       "      <td>No Women</td>\n",
       "    </tr>\n",
       "    <tr>\n",
       "      <th>...</th>\n",
       "      <td>...</td>\n",
       "      <td>...</td>\n",
       "      <td>...</td>\n",
       "      <td>...</td>\n",
       "      <td>...</td>\n",
       "      <td>...</td>\n",
       "      <td>...</td>\n",
       "      <td>...</td>\n",
       "      <td>...</td>\n",
       "      <td>...</td>\n",
       "      <td>...</td>\n",
       "      <td>...</td>\n",
       "      <td>...</td>\n",
       "      <td>...</td>\n",
       "      <td>...</td>\n",
       "      <td>...</td>\n",
       "      <td>...</td>\n",
       "      <td>...</td>\n",
       "      <td>...</td>\n",
       "      <td>...</td>\n",
       "      <td>...</td>\n",
       "    </tr>\n",
       "    <tr>\n",
       "      <th>80</th>\n",
       "      <td>NewsArticle</td>\n",
       "      <td>Langston Centre hosting exhibit on Martin Luth...</td>\n",
       "      <td>https://www.wjhl.com/news/local/langston-centr...</td>\n",
       "      <td>JOHNSON CITY, Tenn. (WJHL) — The Langton Centr...</td>\n",
       "      <td>2021-04-13T01:40:00.0000000Z</td>\n",
       "      <td>https://www.wjhl.com/wp-content/uploads/sites/...</td>\n",
       "      <td>This site is currently unavailable to visitors...</td>\n",
       "      <td>NEGATIVE</td>\n",
       "      <td>0.0</td>\n",
       "      <td>NaN</td>\n",
       "      <td>...</td>\n",
       "      <td>NaN</td>\n",
       "      <td>NaN</td>\n",
       "      <td>NaN</td>\n",
       "      <td>NaN</td>\n",
       "      <td>NaN</td>\n",
       "      <td>NaN</td>\n",
       "      <td>0.9668</td>\n",
       "      <td>No Children</td>\n",
       "      <td>No Seniors</td>\n",
       "      <td>No Women</td>\n",
       "    </tr>\n",
       "    <tr>\n",
       "      <th>81</th>\n",
       "      <td>NewsArticle</td>\n",
       "      <td>Reaching out to the poor is our mandate – BAT ...</td>\n",
       "      <td>https://www.thenewsnigeria.com.ng/2021/04/16/r...</td>\n",
       "      <td>The director general of the Bola Ahmed Tinubu ...</td>\n",
       "      <td>2021-04-16T20:55:00.0000000Z</td>\n",
       "      <td>https://i0.wp.com/www.thenewsnigeria.com.ng/wp...</td>\n",
       "      <td>Friday, April 16, 2021 10:55 pm BAT Foundation...</td>\n",
       "      <td>NEGATIVE</td>\n",
       "      <td>0.0</td>\n",
       "      <td>NaN</td>\n",
       "      <td>...</td>\n",
       "      <td>NaN</td>\n",
       "      <td>NaN</td>\n",
       "      <td>NaN</td>\n",
       "      <td>NaN</td>\n",
       "      <td>NaN</td>\n",
       "      <td>NaN</td>\n",
       "      <td>0.5968</td>\n",
       "      <td>No Children</td>\n",
       "      <td>No Seniors</td>\n",
       "      <td>No Women</td>\n",
       "    </tr>\n",
       "    <tr>\n",
       "      <th>82</th>\n",
       "      <td>NewsArticle</td>\n",
       "      <td>Biden’s First Hundred Days: A Historical Audit</td>\n",
       "      <td>https://www.thenation.com/article/economy/bide...</td>\n",
       "      <td>The president has made a promising start on a ...</td>\n",
       "      <td>2021-04-17T09:00:00.0000000Z</td>\n",
       "      <td>https://www.thenation.com/wp-content/uploads/2...</td>\n",
       "      <td>President Joe Biden. (Andrew Caballero-Reynold...</td>\n",
       "      <td>POSITIVE</td>\n",
       "      <td>1.0</td>\n",
       "      <td>60+</td>\n",
       "      <td>...</td>\n",
       "      <td>NaN</td>\n",
       "      <td>NaN</td>\n",
       "      <td>Male</td>\n",
       "      <td>NaN</td>\n",
       "      <td>NaN</td>\n",
       "      <td>NaN</td>\n",
       "      <td>0.8618</td>\n",
       "      <td>No Children</td>\n",
       "      <td>Depicts Seniors</td>\n",
       "      <td>No Women</td>\n",
       "    </tr>\n",
       "    <tr>\n",
       "      <th>83</th>\n",
       "      <td>NewsArticle</td>\n",
       "      <td>District 5 council candidates aim for open sea...</td>\n",
       "      <td>https://www.expressnews.com/news/local/article...</td>\n",
       "      <td>Key issues in the May 1 race for the open seat...</td>\n",
       "      <td>2021-04-13T01:48:00.0000000Z</td>\n",
       "      <td>https://s.hdnux.com/photos/01/15/71/75/2042251...</td>\n",
       "      <td>Major issues in a crowded City Council race in...</td>\n",
       "      <td>NEGATIVE</td>\n",
       "      <td>0.0</td>\n",
       "      <td>NaN</td>\n",
       "      <td>...</td>\n",
       "      <td>NaN</td>\n",
       "      <td>NaN</td>\n",
       "      <td>NaN</td>\n",
       "      <td>NaN</td>\n",
       "      <td>NaN</td>\n",
       "      <td>NaN</td>\n",
       "      <td>0.6114</td>\n",
       "      <td>No Children</td>\n",
       "      <td>No Seniors</td>\n",
       "      <td>No Women</td>\n",
       "    </tr>\n",
       "    <tr>\n",
       "      <th>84</th>\n",
       "      <td>NewsArticle</td>\n",
       "      <td>African Trade Insurance Agency (ATI)&amp;#39;s Tra...</td>\n",
       "      <td>https://www.pulse.ng/apo/african-trade-insuran...</td>\n",
       "      <td>ESCOM, Malawi’s national power utility, made t...</td>\n",
       "      <td>2021-04-12T07:02:00.0000000Z</td>\n",
       "      <td>https://ocdn.eu/pulscms-transforms/1/A7QktktTU...</td>\n",
       "      <td>Authors:ESCOM, Malawi’s national power utility...</td>\n",
       "      <td>POSITIVE</td>\n",
       "      <td>0.0</td>\n",
       "      <td>NaN</td>\n",
       "      <td>...</td>\n",
       "      <td>NaN</td>\n",
       "      <td>NaN</td>\n",
       "      <td>NaN</td>\n",
       "      <td>NaN</td>\n",
       "      <td>NaN</td>\n",
       "      <td>NaN</td>\n",
       "      <td>0.8352</td>\n",
       "      <td>No Children</td>\n",
       "      <td>No Seniors</td>\n",
       "      <td>No Women</td>\n",
       "    </tr>\n",
       "  </tbody>\n",
       "</table>\n",
       "<p>85 rows × 21 columns</p>\n",
       "</div>"
      ],
      "text/plain": [
       "           type                                               name  \\\n",
       "0   NewsArticle  Increasing Poverty And Declining Middle Class ...   \n",
       "1   NewsArticle  A carbon border tax will harm the poor world t...   \n",
       "2   NewsArticle  L.A. Set to Be Largest City to Offer Guarantee...   \n",
       "3   NewsArticle  All-China Women&#39;s Federation lifts over 5 ...   \n",
       "4   NewsArticle                China’s road to poverty alleviation   \n",
       "..          ...                                                ...   \n",
       "80  NewsArticle  Langston Centre hosting exhibit on Martin Luth...   \n",
       "81  NewsArticle  Reaching out to the poor is our mandate – BAT ...   \n",
       "82  NewsArticle     Biden’s First Hundred Days: A Historical Audit   \n",
       "83  NewsArticle  District 5 council candidates aim for open sea...   \n",
       "84  NewsArticle  African Trade Insurance Agency (ATI)&#39;s Tra...   \n",
       "\n",
       "                                                  url  \\\n",
       "0   https://www.hydnews.net/increasing-poverty-and...   \n",
       "1   https://www.ocregister.com/2021/04/19/a-carbon...   \n",
       "2   https://www.bloomberg.com/news/articles/2021-0...   \n",
       "3   https://www.iol.co.za/business-report/ending-p...   \n",
       "4   https://tribune.com.pk/story/2294739/chinas-ro...   \n",
       "..                                                ...   \n",
       "80  https://www.wjhl.com/news/local/langston-centr...   \n",
       "81  https://www.thenewsnigeria.com.ng/2021/04/16/r...   \n",
       "82  https://www.thenation.com/article/economy/bide...   \n",
       "83  https://www.expressnews.com/news/local/article...   \n",
       "84  https://www.pulse.ng/apo/african-trade-insuran...   \n",
       "\n",
       "                                          description  \\\n",
       "0   The consequences of the pandemic and lockdown ...   \n",
       "1   Depriving the world’s poor of the twin drivers...   \n",
       "2   Los Angeles Mayor Eric Garcetti is proposing a...   \n",
       "3   With more importance being attached on women i...   \n",
       "4   China’s transition from a small agrarian socie...   \n",
       "..                                                ...   \n",
       "80  JOHNSON CITY, Tenn. (WJHL) — The Langton Centr...   \n",
       "81  The director general of the Bola Ahmed Tinubu ...   \n",
       "82  The president has made a promising start on a ...   \n",
       "83  Key issues in the May 1 race for the open seat...   \n",
       "84  ESCOM, Malawi’s national power utility, made t...   \n",
       "\n",
       "                  date_published  \\\n",
       "0   2021-04-19T10:11:00.0000000Z   \n",
       "1   2021-04-19T07:37:00.0000000Z   \n",
       "2   2021-04-19T14:00:00.0000000Z   \n",
       "3   2021-04-19T12:57:00.0000000Z   \n",
       "4   2021-04-14T18:22:00.0000000Z   \n",
       "..                           ...   \n",
       "80  2021-04-13T01:40:00.0000000Z   \n",
       "81  2021-04-16T20:55:00.0000000Z   \n",
       "82  2021-04-17T09:00:00.0000000Z   \n",
       "83  2021-04-13T01:48:00.0000000Z   \n",
       "84  2021-04-12T07:02:00.0000000Z   \n",
       "\n",
       "                                                image  \\\n",
       "0   https://secureservercdn.net/160.153.137.14/a0b...   \n",
       "1   https://www.ocregister.com/wp-content/uploads/...   \n",
       "2   https://assets.bwbx.io/images/users/iqjWHBFdfx...   \n",
       "3   https://image-prod.iol.co.za/resize/630x366?so...   \n",
       "4   https://i.tribune.com.pk/media/images/Azhar-Az...   \n",
       "..                                                ...   \n",
       "80  https://www.wjhl.com/wp-content/uploads/sites/...   \n",
       "81  https://i0.wp.com/www.thenewsnigeria.com.ng/wp...   \n",
       "82  https://www.thenation.com/wp-content/uploads/2...   \n",
       "83  https://s.hdnux.com/photos/01/15/71/75/2042251...   \n",
       "84  https://ocdn.eu/pulscms-transforms/1/A7QktktTU...   \n",
       "\n",
       "                                              article sentiment  \\\n",
       "0   The consequences of the pandemic and lockdown ...  NEGATIVE   \n",
       "1    Trending:To tackle climate change, rich natio...  NEGATIVE   \n",
       "2   To continue, please click the box below to let...  NEGATIVE   \n",
       "3   By  People’s Daily Online SA   Apr 19, 2021Sha...  POSITIVE   \n",
       "4   China’s transition from a small agrarian socie...  POSITIVE   \n",
       "..                                                ...       ...   \n",
       "80  This site is currently unavailable to visitors...  NEGATIVE   \n",
       "81  Friday, April 16, 2021 10:55 pm BAT Foundation...  NEGATIVE   \n",
       "82  President Joe Biden. (Andrew Caballero-Reynold...  POSITIVE   \n",
       "83  Major issues in a crowded City Council race in...  NEGATIVE   \n",
       "84  Authors:ESCOM, Malawi’s national power utility...  POSITIVE   \n",
       "\n",
       "    number_of_people person_0_age  ... person_2_age person_3_age  \\\n",
       "0                0.0          NaN  ...          NaN          NaN   \n",
       "1                1.0        38-43  ...          NaN          NaN   \n",
       "2                1.0        48-53  ...          NaN          NaN   \n",
       "3                0.0          NaN  ...          NaN          NaN   \n",
       "4                1.0        38-43  ...          NaN          NaN   \n",
       "..               ...          ...  ...          ...          ...   \n",
       "80               0.0          NaN  ...          NaN          NaN   \n",
       "81               0.0          NaN  ...          NaN          NaN   \n",
       "82               1.0          60+  ...          NaN          NaN   \n",
       "83               0.0          NaN  ...          NaN          NaN   \n",
       "84               0.0          NaN  ...          NaN          NaN   \n",
       "\n",
       "   person_0_gender person_1_gender person_2_gender person_3_gender  \\\n",
       "0              NaN             NaN             NaN             NaN   \n",
       "1          Unknown             NaN             NaN             NaN   \n",
       "2             Male             NaN             NaN             NaN   \n",
       "3              NaN             NaN             NaN             NaN   \n",
       "4             Male             NaN             NaN             NaN   \n",
       "..             ...             ...             ...             ...   \n",
       "80             NaN             NaN             NaN             NaN   \n",
       "81             NaN             NaN             NaN             NaN   \n",
       "82            Male             NaN             NaN             NaN   \n",
       "83             NaN             NaN             NaN             NaN   \n",
       "84             NaN             NaN             NaN             NaN   \n",
       "\n",
       "   probability        young              old    Female  \n",
       "0       0.9997  No Children       No Seniors  No Women  \n",
       "1       0.9979  No Children       No Seniors  No Women  \n",
       "2       0.9957  No Children       No Seniors  No Women  \n",
       "3       0.7539  No Children       No Seniors  No Women  \n",
       "4       0.9807  No Children       No Seniors  No Women  \n",
       "..         ...          ...              ...       ...  \n",
       "80      0.9668  No Children       No Seniors  No Women  \n",
       "81      0.5968  No Children       No Seniors  No Women  \n",
       "82      0.8618  No Children  Depicts Seniors  No Women  \n",
       "83      0.6114  No Children       No Seniors  No Women  \n",
       "84      0.8352  No Children       No Seniors  No Women  \n",
       "\n",
       "[85 rows x 21 columns]"
      ]
     },
     "execution_count": 6,
     "metadata": {},
     "output_type": "execute_result"
    }
   ],
   "source": [
    "woman_any_index = big_data.query(\"person_0_gender == 'Female' |person_1_gender == 'Female' |person_2_gender == 'Female' | person_3_gender == 'Female'\").index\n",
    "woman_all_index = big_data.query(\"person_0_gender == 'Female' &person_1_gender == 'Female' &person_2_gender == 'Female' & person_3_gender == 'Female'\").index\n",
    "big_data.loc[woman_any_index,\"Female\"] = \"Depicts >1 Women\"\n",
    "big_data.loc[woman_all_index,\"Female\"] = \"Depicts Only Women\"\n",
    "big_data.loc[big_data[\"Female\"].isna(), \"Female\"]=\"No Women\" \n",
    "big_data"
   ]
  },
  {
   "cell_type": "code",
   "execution_count": null,
   "id": "e2b59639",
   "metadata": {},
   "outputs": [],
   "source": [
    "big_data.to_csv(\"pna/big_dataf.csv\", sep=\";\")"
   ]
  },
  {
   "cell_type": "markdown",
   "id": "eef0c3ab",
   "metadata": {
    "scrolled": true
   },
   "source": [
    "# Visualization of the Data<a class=\"anchor\" id=\"tenth-bullet\"></a>"
   ]
  },
  {
   "cell_type": "markdown",
   "id": "ebddc2af",
   "metadata": {},
   "source": [
    "Further on we would like to see if there any correlation between the images displayed in the article and the sentiment of the article as expressed by the author."
   ]
  },
  {
   "cell_type": "code",
   "execution_count": 2,
   "id": "c48fd2e3",
   "metadata": {},
   "outputs": [],
   "source": [
    "big_data=pd.read_csv(\"pna/big_dataf.csv\", sep=\";\", index_col=\"Unnamed: 0\")"
   ]
  },
  {
   "cell_type": "markdown",
   "id": "e8699051",
   "metadata": {},
   "source": [
    "## Presence of People"
   ]
  },
  {
   "cell_type": "markdown",
   "id": "342c3243",
   "metadata": {},
   "source": [
    "In this section, we try to see if there any correlation between presence of people in the images provided in the article and sentiment expressed in the article. We do not see any conclusive evidence to say that they are correlated."
   ]
  },
  {
   "cell_type": "code",
   "execution_count": 3,
   "id": "10295685",
   "metadata": {},
   "outputs": [
    {
     "data": {
      "text/plain": [
       "<AxesSubplot:ylabel='number_of_people'>"
      ]
     },
     "execution_count": 3,
     "metadata": {},
     "output_type": "execute_result"
    },
    {
     "data": {
      "image/png": "[encoded data removed]",
      "text/plain": [
       "<Figure size 432x288 with 1 Axes>"
      ]
     },
     "metadata": {
      "needs_background": "light"
     },
     "output_type": "display_data"
    }
   ],
   "source": [
    "big_data.groupby('number_of_people').sentiment.value_counts().unstack().plot.barh()"
   ]
  },
  {
   "cell_type": "markdown",
   "id": "5f355fcc",
   "metadata": {},
   "source": [
    "## Presence of Children "
   ]
  },
  {
   "cell_type": "markdown",
   "id": "af955dc5",
   "metadata": {},
   "source": [
    "We wanted to see if the presence of children in the images are correlated with the sentiment expressed in the article. As the sample is very small there is no foolproof conclusion that we can draw from the results. However, from the graph it seems that there is no correlation. "
   ]
  },
  {
   "cell_type": "code",
   "execution_count": 4,
   "id": "d143408a",
   "metadata": {
    "scrolled": false
   },
   "outputs": [
    {
     "data": {
      "text/plain": [
       "<AxesSubplot:ylabel='young'>"
      ]
     },
     "execution_count": 4,
     "metadata": {},
     "output_type": "execute_result"
    },
    {
     "data": {
      "image/png": "[encoded data removed]",
      "text/plain": [
       "<Figure size 432x288 with 1 Axes>"
      ]
     },
     "metadata": {
      "needs_background": "light"
     },
     "output_type": "display_data"
    }
   ],
   "source": [
    "big_data.groupby('young').sentiment.value_counts().unstack().plot.barh()"
   ]
  },
  {
   "cell_type": "markdown",
   "id": "0e19b6ed",
   "metadata": {},
   "source": [
    "## Presence of Senior Citizens"
   ]
  },
  {
   "cell_type": "markdown",
   "id": "aa2a068f",
   "metadata": {},
   "source": [
    "In the following bar chart we see less of a gap between the share of negative articles and postive ones, if the picture contains senior citizens. However, the small number of observations, yet again, does not allow us to draw any conclusions."
   ]
  },
  {
   "cell_type": "code",
   "execution_count": 5,
   "id": "e800753e",
   "metadata": {},
   "outputs": [
    {
     "data": {
      "text/plain": [
       "<AxesSubplot:ylabel='old'>"
      ]
     },
     "execution_count": 5,
     "metadata": {},
     "output_type": "execute_result"
    },
    {
     "data": {
      "image/png": "[encoded data removed]",
      "text/plain": [
       "<Figure size 432x288 with 1 Axes>"
      ]
     },
     "metadata": {
      "needs_background": "light"
     },
     "output_type": "display_data"
    }
   ],
   "source": [
    "big_data.groupby('old').sentiment.value_counts().unstack().plot.barh()"
   ]
  },
  {
   "cell_type": "markdown",
   "id": "373a148b",
   "metadata": {},
   "source": [
    "## Presence of Women"
   ]
  },
  {
   "cell_type": "markdown",
   "id": "7b7b67bf",
   "metadata": {},
   "source": [
    "In the following bar chart we can see that articles that contain at least woman are more likely to express a positive sentiment as opposed to articles with no women. However, it is mixed-crowd articles that seem to be more positive than negative on average. That is the case only for this category among all we looked at. This being the result, we cannot make any conclusion from it as the sample size is very small."
   ]
  },
  {
   "cell_type": "code",
   "execution_count": 6,
   "id": "6e8aff8a",
   "metadata": {},
   "outputs": [
    {
     "data": {
      "text/plain": [
       "<AxesSubplot:ylabel='Female'>"
      ]
     },
     "execution_count": 6,
     "metadata": {},
     "output_type": "execute_result"
    },
    {
     "data": {
      "image/png": "[encoded data removed]",
      "text/plain": [
       "<Figure size 432x288 with 1 Axes>"
      ]
     },
     "metadata": {
      "needs_background": "light"
     },
     "output_type": "display_data"
    }
   ],
   "source": [
    "big_data.groupby('Female').sentiment.value_counts().unstack().plot.barh()"
   ]
  },
  {
   "cell_type": "markdown",
   "id": "2d0b1d60",
   "metadata": {},
   "source": [
    "# Create "
   ]
  }
 ],
 "metadata": {
  "kernelspec": {
   "display_name": "Python 3",
   "language": "python",
   "name": "python3"
  },
  "language_info": {
   "codemirror_mode": {
    "name": "ipython",
    "version": 3
   },
   "file_extension": ".py",
   "mimetype": "text/x-python",
   "name": "python",
   "nbconvert_exporter": "python",
   "pygments_lexer": "ipython3",
   "version": "3.8.5"
  }
 },
 "nbformat": 4,
 "nbformat_minor": 5
}
