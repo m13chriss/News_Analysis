{
 "cells": [
  {
   "cell_type": "code",
   "execution_count": null,
   "id": "11e51e7e",
   "metadata": {},
   "outputs": [],
   "source": [
    "#mock text classifier"
   ]
  },
  {
   "cell_type": "code",
   "execution_count": 31,
   "id": "730f9a89",
   "metadata": {},
   "outputs": [
    {
     "name": "stdout",
     "output_type": "stream",
     "text": [
      "Collecting scikit-learn\n",
      "  Downloading scikit_learn-0.24.2-cp38-cp38-win_amd64.whl (6.9 MB)\n",
      "Collecting threadpoolctl>=2.0.0\n",
      "  Using cached threadpoolctl-2.1.0-py3-none-any.whl (12 kB)\n",
      "Collecting scipy>=0.19.1\n",
      "  Downloading scipy-1.6.3-cp38-cp38-win_amd64.whl (32.7 MB)\n",
      "Requirement already satisfied: numpy>=1.13.3 in c:\\users\\manue\\anaconda3\\envs\\grind\\lib\\site-packages (from scikit-learn) (1.20.1)\n",
      "Requirement already satisfied: joblib>=0.11 in c:\\users\\manue\\anaconda3\\envs\\grind\\lib\\site-packages (from scikit-learn) (1.0.1)\n",
      "Installing collected packages: threadpoolctl, scipy, scikit-learn\n",
      "Successfully installed scikit-learn-0.24.2 scipy-1.6.3 threadpoolctl-2.1.0\n",
      "Note: you may need to restart the kernel to use updated packages.\n"
     ]
    }
   ],
   "source": [
    "pip install scikit-learn"
   ]
  },
  {
   "cell_type": "code",
   "execution_count": 60,
   "id": "30ede26c",
   "metadata": {},
   "outputs": [
    {
     "data": {
      "text/plain": [
       "dict_items([('name', 'Increasing Poverty And Declining Middle Class In India'), ('article', 'The consequences of the pandemic and lockdown are expected to reduce the number of middle-income people in India by 32 million, which is again 60% of the decline in the number of middle-income people worldwide, earning between $10 and $20 a day.Definitions of the poverty line given by various governments in India have been the subject of criticism. The definitions suggested by the Tendulkar Committee (2005), the Rangarajan Committee (2012), the Panagariya Committee (2015) and a few other committees have been sharply criticised and to date no such definition has been given which was accepted without criticism.At the international level too, many definitions of poverty are flawed. The definition of poverty given by the World Bank is used in many countries. One of the aims of this bank is to eradicate poverty from the world. One of the criticisms of the poverty line given by this bank is that in its definition the per capita daily income has been deliberately kept low, in order to reflect that the corporate economic growth model is helpful in eliminating poverty from the world.The criticism is plausible, because how can a person live outside poverty with an income of 2 US dollars per day? Using purchasing power parity to calculate the Indian rupee equivalent, one US dollar equals 21.35 Indian rupees. How can one get rid of poverty with only 42.70 rupees per day?A critique-free definition of poverty may be that people living in poverty are those unable to meet their basic needs: food, clothes, housing, education, healthcare, a clean environment, and social security.The corporate world propagates corporate social responsibility on a small scale, but its main purpose is to maximise its profits. The extreme increase in the wealth of the rich alongside the increase in the number of the poor in India, and in most of the countries of the world during the pandemic, are tearing apart the tune of corporate social responsibility.After resigning, Dr Minhas wrote a book on Planning and the Poor, in which he made it clear that plans for the poor’s well being could not be made in air-conditioned rooms.The government of India and state government institutions are full of economists. These economists are deliberately giving foolish arguments, trying to equate the once-high economic growth rate with development of the common man and woman, while they know it eventually goes in favour of the corporate world and against ordinary people.These economists are not ashamed to propagate that a high growth rate of GDP inevitably lifts people out of poverty and raises their standard of living. They deliberately ignore the problems that arise from the current corporate economic model of the country, such as unequal distribution of resources and income, inequality, poverty, debt and hunger, and the resulting social problems such as suicide, and unethical acts such as looting, murder, hooliganism, drugs, theft, robbery, corruption.They do not miss any opportunity to sing praises of this model in the hope of fulfilling their petty meaningless selfish interests. In addition, operating beyond their normal capacity, these economists fabricate data and go for conclusion-oriented studies to show their ‘sympathy’ for the average person. They leave no stone unturned in making and preaching nonsensical statements.Another big misconception of the middle-income group is that they have to rise up to get in the upper-income group soon. In fact, very few people from the middle-income group are allowed to enter the upper-income group, and many more people are pushed into the lower-income group. They are seen playing a snakes-and-ladders game.Policies of liberalisation, privatisation and globalisation have been implemented by governments of India since 1991 under the policy guidelines of the International Monetary Fund and the World Bank, dubbed the New Economic Policies. The agenda of these policies is to strengthen the grip of the capitalist/corporate world on the country’s economy.The hidden agenda behind definitions of the poverty line given by ‘scholars’ periodically is to reduce to the point of eliminating the economic concessions/subsidies already given by the government to the poor, while it facilitates the corporate world in taking over the agricultural, industrial and services sectors.In capitalist regimes, rulers often become insensitive to understanding and solving people’s problems. Marie Antoinette is supposed to have said, if the people don’t have bread, then ‘Let them eat cake!’ The same is true of our scholars, planners, and rulers. The country’s marginal and small farmers, landless farm labourers, rural small artisans and informally employed workers continue to be burdened by poverty and debt. While the pandemic has exacerbated the problems of these classes, it has also led to a tremendous increase in the wealth of the extremely rich. The ongoing pandemic will further weaken these working classes.Capital-intensive production techniques must be replaced by labour-intensive production techniques. The scope of MGNREGA needs to be widened and other similar schemes need to be implemented in villages and cities.Grass growing on the graves of the poor warns capitalists and governments that growing poverty anywhere among the working class people is a serious threat to the well-to-do people everywhere. To address the problem of poverty, financing can be done by raising the existing tax rates and imposing new taxes on the capitalist/corporate world, and ensuring their collection. In this regard, it is important to define and implement ‘the poverty line’ as well as ‘the prosperity line’. #KhabarLive #hydnewsLog in to leave a comment This site uses Akismet to reduce spam. Learn how your comment data is processed.')])"
      ]
     },
     "execution_count": 60,
     "metadata": {},
     "output_type": "execute_result"
    }
   ],
   "source": [
    "import torch\n",
    "import pandas as pd\n",
    "from sklearn.model_selection import train_test_split\n",
    "from torchtext.datasets import AG_NEWS\n",
    "AG_NEWS\n",
    "big_data=pd.read_csv(r\"C:\\Users\\manue\\pna\\big_dataf.csv\", sep=\";\", index_col=\"Unnamed: 0\")\n",
    "big_data\n",
    "nlp1=big_data.filter(items=['name', 'article'])\n",
    "data_dlist=nlp1.to_dict('records')\n",
    "data_dlist[0].items()\n",
    "\n",
    "#train, test = train_test_split(nlp1, test_size=0.2)"
   ]
  },
  {
   "cell_type": "code",
   "execution_count": 35,
   "id": "81392e9a",
   "metadata": {
    "scrolled": true
   },
   "outputs": [
    {
     "ename": "ValueError",
     "evalue": "too many values to unpack (expected 2)",
     "output_type": "error",
     "traceback": [
      "\u001b[1;31m---------------------------------------------------------------------------\u001b[0m",
      "\u001b[1;31mValueError\u001b[0m                                Traceback (most recent call last)",
      "\u001b[1;32m<ipython-input-35-f770c5f8fba2>\u001b[0m in \u001b[0;36m<module>\u001b[1;34m\u001b[0m\n\u001b[0;32m      5\u001b[0m \u001b[0mtokenizer\u001b[0m \u001b[1;33m=\u001b[0m \u001b[0mget_tokenizer\u001b[0m\u001b[1;33m(\u001b[0m\u001b[1;34m'basic_english'\u001b[0m\u001b[1;33m)\u001b[0m\u001b[1;33m\u001b[0m\u001b[1;33m\u001b[0m\u001b[0m\n\u001b[0;32m      6\u001b[0m \u001b[0mcounter\u001b[0m \u001b[1;33m=\u001b[0m \u001b[0mCounter\u001b[0m\u001b[1;33m(\u001b[0m\u001b[1;33m)\u001b[0m\u001b[1;33m\u001b[0m\u001b[1;33m\u001b[0m\u001b[0m\n\u001b[1;32m----> 7\u001b[1;33m \u001b[1;32mfor\u001b[0m \u001b[1;33m(\u001b[0m\u001b[0mdescription\u001b[0m\u001b[1;33m,\u001b[0m \u001b[0marticle\u001b[0m\u001b[1;33m)\u001b[0m \u001b[1;32min\u001b[0m \u001b[0mtrain\u001b[0m\u001b[1;33m:\u001b[0m\u001b[1;33m\u001b[0m\u001b[1;33m\u001b[0m\u001b[0m\n\u001b[0m\u001b[0;32m      8\u001b[0m     \u001b[0mcounter\u001b[0m\u001b[1;33m.\u001b[0m\u001b[0mupdate\u001b[0m\u001b[1;33m(\u001b[0m\u001b[0mtokenizer\u001b[0m\u001b[1;33m(\u001b[0m\u001b[0mline\u001b[0m\u001b[1;33m)\u001b[0m\u001b[1;33m)\u001b[0m\u001b[1;33m\u001b[0m\u001b[1;33m\u001b[0m\u001b[0m\n\u001b[0;32m      9\u001b[0m \u001b[0mvocab\u001b[0m \u001b[1;33m=\u001b[0m \u001b[0mVocab\u001b[0m\u001b[1;33m(\u001b[0m\u001b[0mcounter\u001b[0m\u001b[1;33m,\u001b[0m \u001b[0mmin_freq\u001b[0m\u001b[1;33m=\u001b[0m\u001b[1;36m1\u001b[0m\u001b[1;33m)\u001b[0m\u001b[1;33m\u001b[0m\u001b[1;33m\u001b[0m\u001b[0m\n",
      "\u001b[1;31mValueError\u001b[0m: too many values to unpack (expected 2)"
     ]
    }
   ],
   "source": [
    "from torchtext.data.utils import get_tokenizer\n",
    "from collections import Counter\n",
    "from torchtext.vocab import Vocab\n",
    "\n",
    "tokenizer = get_tokenizer('basic_english')\n",
    "counter = Counter()\n",
    "for (description, article) in train:\n",
    "    counter.update(tokenizer(line))\n",
    "vocab = Vocab(counter, min_freq=1)"
   ]
  },
  {
   "cell_type": "code",
   "execution_count": 7,
   "id": "c3373235",
   "metadata": {
    "scrolled": true
   },
   "outputs": [
    {
     "data": {
      "text/plain": [
       "(3,\n",
       " \"Money Funds Fell in Latest Week (AP) AP - Assets of the nation's retail money market mutual funds fell by  #36;1.17 billion in the latest week to  #36;849.98 trillion, the Investment Company Institute said Thursday.\")"
      ]
     },
     "execution_count": 7,
     "metadata": {},
     "output_type": "execute_result"
    }
   ],
   "source": [
    "next(train_iter)"
   ]
  },
  {
   "cell_type": "code",
   "execution_count": 9,
   "id": "89c5521a",
   "metadata": {},
   "outputs": [],
   "source": [
    "from torchtext.data.utils import get_tokenizer\n",
    "from collections import Counter\n",
    "from torchtext.vocab import Vocab\n",
    "\n",
    "tokenizer = get_tokenizer('basic_english')\n",
    "train_iter = AG_NEWS(split='train')\n",
    "counter = Counter()\n",
    "for (label, line) in train_iter:\n",
    "    counter.update(tokenizer(line))\n",
    "vocab = Vocab(counter, min_freq=1)"
   ]
  }
 ],
 "metadata": {
  "kernelspec": {
   "display_name": "Python 3",
   "language": "python",
   "name": "python3"
  },
  "language_info": {
   "codemirror_mode": {
    "name": "ipython",
    "version": 3
   },
   "file_extension": ".py",
   "mimetype": "text/x-python",
   "name": "python",
   "nbconvert_exporter": "python",
   "pygments_lexer": "ipython3",
   "version": "3.8.5"
  }
 },
 "nbformat": 4,
 "nbformat_minor": 5
}
