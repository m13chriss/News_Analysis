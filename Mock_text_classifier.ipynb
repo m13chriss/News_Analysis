{
 "cells": [
  {
   "cell_type": "code",
   "execution_count": null,
   "id": "11e51e7e",
   "metadata": {},
   "outputs": [],
   "source": [
    "#mock text classifier"
   ]
  },
  {
   "cell_type": "code",
   "execution_count": 31,
   "id": "730f9a89",
   "metadata": {},
   "outputs": [
    {
     "name": "stdout",
     "output_type": "stream",
     "text": [
      "Collecting scikit-learn\n",
      "  Downloading scikit_learn-0.24.2-cp38-cp38-win_amd64.whl (6.9 MB)\n",
      "Collecting threadpoolctl>=2.0.0\n",
      "  Using cached threadpoolctl-2.1.0-py3-none-any.whl (12 kB)\n",
      "Collecting scipy>=0.19.1\n",
      "  Downloading scipy-1.6.3-cp38-cp38-win_amd64.whl (32.7 MB)\n",
      "Requirement already satisfied: numpy>=1.13.3 in c:\\users\\manue\\anaconda3\\envs\\grind\\lib\\site-packages (from scikit-learn) (1.20.1)\n",
      "Requirement already satisfied: joblib>=0.11 in c:\\users\\manue\\anaconda3\\envs\\grind\\lib\\site-packages (from scikit-learn) (1.0.1)\n",
      "Installing collected packages: threadpoolctl, scipy, scikit-learn\n",
      "Successfully installed scikit-learn-0.24.2 scipy-1.6.3 threadpoolctl-2.1.0\n",
      "Note: you may need to restart the kernel to use updated packages.\n"
     ]
    }
   ],
   "source": [
    "pip install scikit-learn"
   ]
  },
  {
   "cell_type": "code",
   "execution_count": 19,
   "id": "30ede26c",
   "metadata": {},
   "outputs": [],
   "source": [
    "import torch\n",
    "import pandas as pd\n",
    "from sklearn.model_selection import train_test_split\n",
    "from torchtext.datasets import AG_NEWS\n",
    "AG_NEWS\n",
    "big_data=pd.read_csv(r\"C:\\Users\\manue\\pna\\big_dataf.csv\", sep=\";\", index_col=\"Unnamed: 0\")\n",
    "big_data\n",
    "nlp1=big_data.filter(items=['name', 'article'])\n",
    "data_dlist=nlp1.to_dict('records')\n",
    "data_dlist\n",
    "result = [(d['name'], d['article']) for d in data_dlist]#create a list of tuplesI\n",
    "train_iter=iter(result)#create an iterator\n",
    "#print(train_iter)\n",
    "#print(dir(train_iter))\n",
    "#print(next(train_iter))\n",
    "#train, test = train_test_split(nlp1, test_size=0.2)"
   ]
  },
  {
   "cell_type": "code",
   "execution_count": 21,
   "id": "81392e9a",
   "metadata": {
    "scrolled": true
   },
   "outputs": [],
   "source": [
    "from torchtext.data.utils import get_tokenizer\n",
    "from collections import Counter\n",
    "from torchtext.vocab import Vocab\n",
    "\n",
    "tokenizer = get_tokenizer('basic_english')\n",
    "train_iter=iter(result)\n",
    "counter = Counter()\n",
    "for (name, article) in train_iter:\n",
    "    counter.update(tokenizer(article))\n",
    "vocab = Vocab(counter, min_freq=1)"
   ]
  },
  {
   "cell_type": "code",
   "execution_count": 22,
   "id": "c3373235",
   "metadata": {
    "scrolled": true
   },
   "outputs": [
    {
     "data": {
      "text/plain": [
       "[197, 11, 35, 615]"
      ]
     },
     "execution_count": 22,
     "metadata": {},
     "output_type": "execute_result"
    }
   ],
   "source": [
    "[vocab[token] for token in ['here', 'is', 'an', 'example']]"
   ]
  },
  {
   "cell_type": "code",
   "execution_count": 9,
   "id": "89c5521a",
   "metadata": {},
   "outputs": [],
   "source": [
    "from torchtext.data.utils import get_tokenizer\n",
    "from collections import Counter\n",
    "from torchtext.vocab import Vocab\n",
    "\n",
    "tokenizer = get_tokenizer('basic_english')\n",
    "train_iter = AG_NEWS(split='train')\n",
    "counter = Counter()\n",
    "for (label, line) in train_iter:\n",
    "    counter.update(tokenizer(line))\n",
    "vocab = Vocab(counter, min_freq=1)"
   ]
  }
 ],
 "metadata": {
  "kernelspec": {
   "display_name": "Python 3",
   "language": "python",
   "name": "python3"
  },
  "language_info": {
   "codemirror_mode": {
    "name": "ipython",
    "version": 3
   },
   "file_extension": ".py",
   "mimetype": "text/x-python",
   "name": "python",
   "nbconvert_exporter": "python",
   "pygments_lexer": "ipython3",
   "version": "3.8.5"
  }
 },
 "nbformat": 4,
 "nbformat_minor": 5
}
